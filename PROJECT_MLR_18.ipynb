{
 "cells": [
  {
   "cell_type": "markdown",
   "metadata": {},
   "source": [
    "## ML models to predict the ‘Insurance cost’ with minimum MSE and RMSE and maximum R-Square score"
   ]
  },
  {
   "cell_type": "markdown",
   "metadata": {},
   "source": [
    "## MULTIPLE LINEAR REGRESSOR"
   ]
  },
  {
   "cell_type": "code",
   "execution_count": 1,
   "metadata": {},
   "outputs": [],
   "source": [
    "#importing the libraries\n",
    "import numpy as np\n",
    "import pandas as pd\n",
    "import matplotlib.pyplot as plt"
   ]
  },
  {
   "cell_type": "code",
   "execution_count": 2,
   "metadata": {},
   "outputs": [
    {
     "name": "stdout",
     "output_type": "stream",
     "text": [
      "      age     sex     bmi  children smoker     region      charges\n",
      "0      19  female  27.900         0    yes  southwest  16884.92400\n",
      "1      18    male  33.770         1     no  southeast   1725.55230\n",
      "2      28    male  33.000         3     no  southeast   4449.46200\n",
      "3      33    male  22.705         0     no  northwest  21984.47061\n",
      "4      32    male  28.880         0     no  northwest   3866.85520\n",
      "...   ...     ...     ...       ...    ...        ...          ...\n",
      "1333   50    male  30.970         3     no  northwest  10600.54830\n",
      "1334   18  female  31.920         0     no  northeast   2205.98080\n",
      "1335   18  female  36.850         0     no  southeast   1629.83350\n",
      "1336   21  female  25.800         0     no  southwest   2007.94500\n",
      "1337   61  female  29.070         0    yes  northwest  29141.36030\n",
      "\n",
      "[1338 rows x 7 columns]\n"
     ]
    }
   ],
   "source": [
    "#importing the dataset\n",
    "dataset = pd.read_csv('insurance.csv')\n",
    "print(dataset)"
   ]
  },
  {
   "cell_type": "markdown",
   "metadata": {},
   "source": [
    "### EDA"
   ]
  },
  {
   "cell_type": "code",
   "execution_count": 3,
   "metadata": {},
   "outputs": [
    {
     "name": "stdout",
     "output_type": "stream",
     "text": [
      "<class 'pandas.core.frame.DataFrame'>\n",
      "RangeIndex: 1338 entries, 0 to 1337\n",
      "Data columns (total 7 columns):\n",
      " #   Column    Non-Null Count  Dtype  \n",
      "---  ------    --------------  -----  \n",
      " 0   age       1338 non-null   int64  \n",
      " 1   sex       1338 non-null   object \n",
      " 2   bmi       1338 non-null   float64\n",
      " 3   children  1338 non-null   int64  \n",
      " 4   smoker    1338 non-null   object \n",
      " 5   region    1338 non-null   object \n",
      " 6   charges   1338 non-null   float64\n",
      "dtypes: float64(2), int64(2), object(3)\n",
      "memory usage: 73.3+ KB\n"
     ]
    }
   ],
   "source": [
    "dataset.shape \n",
    "dataset.info()"
   ]
  },
  {
   "cell_type": "markdown",
   "metadata": {},
   "source": [
    "### DATA PREPROCESSING"
   ]
  },
  {
   "cell_type": "code",
   "execution_count": 4,
   "metadata": {},
   "outputs": [],
   "source": [
    "#extracting x and y columns from the dataset\n",
    "x=dataset.iloc[ : , :-1].values\n",
    "y=dataset.iloc[ : ,-1].values"
   ]
  },
  {
   "cell_type": "code",
   "execution_count": 5,
   "metadata": {},
   "outputs": [
    {
     "name": "stdout",
     "output_type": "stream",
     "text": [
      "[[19 'female' 27.9 0 'yes' 'southwest']\n",
      " [18 'male' 33.77 1 'no' 'southeast']\n",
      " [28 'male' 33.0 3 'no' 'southeast']\n",
      " ...\n",
      " [18 'female' 36.85 0 'no' 'southeast']\n",
      " [21 'female' 25.8 0 'no' 'southwest']\n",
      " [61 'female' 29.07 0 'yes' 'northwest']]\n"
     ]
    }
   ],
   "source": [
    "print(x)"
   ]
  },
  {
   "cell_type": "code",
   "execution_count": 6,
   "metadata": {},
   "outputs": [
    {
     "name": "stdout",
     "output_type": "stream",
     "text": [
      "[16884.924   1725.5523  4449.462  ...  1629.8335  2007.945  29141.3603]\n"
     ]
    }
   ],
   "source": [
    "print(y)"
   ]
  },
  {
   "cell_type": "markdown",
   "metadata": {},
   "source": [
    "### Encoding the categorical data"
   ]
  },
  {
   "cell_type": "code",
   "execution_count": 7,
   "metadata": {
    "scrolled": true
   },
   "outputs": [
    {
     "data": {
      "text/plain": [
       "male      676\n",
       "female    662\n",
       "Name: sex, dtype: int64"
      ]
     },
     "execution_count": 7,
     "metadata": {},
     "output_type": "execute_result"
    }
   ],
   "source": [
    "dataset[\"sex\"].value_counts()"
   ]
  },
  {
   "cell_type": "code",
   "execution_count": 8,
   "metadata": {},
   "outputs": [
    {
     "data": {
      "text/plain": [
       "no     1064\n",
       "yes     274\n",
       "Name: smoker, dtype: int64"
      ]
     },
     "execution_count": 8,
     "metadata": {},
     "output_type": "execute_result"
    }
   ],
   "source": [
    "dataset[\"smoker\"].value_counts()"
   ]
  },
  {
   "cell_type": "code",
   "execution_count": 9,
   "metadata": {},
   "outputs": [
    {
     "data": {
      "text/plain": [
       "southeast    364\n",
       "southwest    325\n",
       "northwest    325\n",
       "northeast    324\n",
       "Name: region, dtype: int64"
      ]
     },
     "execution_count": 9,
     "metadata": {},
     "output_type": "execute_result"
    }
   ],
   "source": [
    "dataset[\"region\"].value_counts()"
   ]
  },
  {
   "cell_type": "code",
   "execution_count": 10,
   "metadata": {
    "scrolled": true
   },
   "outputs": [
    {
     "name": "stdout",
     "output_type": "stream",
     "text": [
      "[[1.0 0.0 0.0 ... 19 27.9 0]\n",
      " [0.0 1.0 1.0 ... 18 33.77 1]\n",
      " [0.0 1.0 1.0 ... 28 33.0 3]\n",
      " ...\n",
      " [1.0 0.0 1.0 ... 18 36.85 0]\n",
      " [1.0 0.0 1.0 ... 21 25.8 0]\n",
      " [1.0 0.0 0.0 ... 61 29.07 0]]\n"
     ]
    }
   ],
   "source": [
    "#for encoding the categorical column\n",
    "from sklearn.compose import ColumnTransformer\n",
    "from sklearn.preprocessing import OneHotEncoder\n",
    "ct=ColumnTransformer(transformers=[('encoder', OneHotEncoder(), [1,4,5])], remainder = 'passthrough')\n",
    "x=ct.fit_transform(x)\n",
    "print(x)"
   ]
  },
  {
   "cell_type": "code",
   "execution_count": 11,
   "metadata": {},
   "outputs": [],
   "source": [
    "from sklearn.model_selection import train_test_split\n",
    "x_tr,x_te,y_tr,y_te = train_test_split(x,y,test_size = 0.2, random_state=0)"
   ]
  },
  {
   "cell_type": "markdown",
   "metadata": {},
   "source": [
    "### Importing and Training the Model"
   ]
  },
  {
   "cell_type": "code",
   "execution_count": 12,
   "metadata": {},
   "outputs": [
    {
     "data": {
      "text/plain": [
       "LinearRegression()"
      ]
     },
     "execution_count": 12,
     "metadata": {},
     "output_type": "execute_result"
    }
   ],
   "source": [
    "from sklearn.linear_model import LinearRegression\n",
    "regressor = LinearRegression()\n",
    "regressor.fit(x_tr,y_tr)"
   ]
  },
  {
   "cell_type": "code",
   "execution_count": 13,
   "metadata": {},
   "outputs": [],
   "source": [
    "#to predict the values of output \n",
    "y_pred = regressor.predict(x_te)"
   ]
  },
  {
   "cell_type": "code",
   "execution_count": 14,
   "metadata": {},
   "outputs": [
    {
     "name": "stdout",
     "output_type": "stream",
     "text": [
      "3893.7494207052237\n",
      "31757659.401992697\n",
      "5635.393455828324\n"
     ]
    }
   ],
   "source": [
    "#calculate and print the errors (MSE and RMSE)\n",
    "from sklearn.metrics import mean_absolute_error, mean_squared_error\n",
    "mae=mean_absolute_error(y_te, y_pred)\n",
    "mse=mean_squared_error(y_te, y_pred)\n",
    "rmse=np.sqrt(mse)\n",
    "print(mae)\n",
    "print(mse)\n",
    "print(rmse)"
   ]
  },
  {
   "cell_type": "code",
   "execution_count": 15,
   "metadata": {
    "scrolled": true
   },
   "outputs": [
    {
     "data": {
      "image/png": "[encoded data removed]",
      "text/plain": [
       "<Figure size 432x288 with 1 Axes>"
      ]
     },
     "metadata": {
      "needs_background": "light"
     },
     "output_type": "display_data"
    }
   ],
   "source": [
    "#visualizing the output pair-plot for 'Age' and 'Charges'\n",
    "plt.scatter(x_te[:,8],y_te,c='red',label = 'Original y_test')\n",
    "plt.scatter(x_te[:,8],y_pred,c='blue',label = 'Calculated y_test')\n",
    "plt.xlabel('Age')\n",
    "plt.ylabel('Charges')\n",
    "plt.title('Age vs Charges plot')\n",
    "plt.legend()\n",
    "plt.show()"
   ]
  },
  {
   "cell_type": "code",
   "execution_count": 28,
   "metadata": {},
   "outputs": [
    {
     "data": {
      "image/png": "[encoded data removed]",
      "text/plain": [
       "<Figure size 432x288 with 1 Axes>"
      ]
     },
     "metadata": {
      "needs_background": "light"
     },
     "output_type": "display_data"
    }
   ],
   "source": [
    "#visualizing the output pair-plot for 'BMI' and 'Charges'\n",
    "plt.scatter(x_te[:,9],y_te,c='red',label = 'Original y_test')\n",
    "plt.scatter(x_te[:,9],y_pred,c='blue',label = 'Calculated y_test')\n",
    "plt.xlabel('BMI')\n",
    "plt.ylabel('Charges')\n",
    "plt.title('BMI vs Charges plot')\n",
    "plt.legend()\n",
    "plt.show()"
   ]
  },
  {
   "cell_type": "markdown",
   "metadata": {},
   "source": [
    "## Backward Elimination"
   ]
  },
  {
   "cell_type": "markdown",
   "metadata": {},
   "source": [
    "### Performing Backward Elimination Manually"
   ]
  },
  {
   "cell_type": "code",
   "execution_count": 16,
   "metadata": {},
   "outputs": [
    {
     "name": "stdout",
     "output_type": "stream",
     "text": [
      "[[0.0 0.0 1.0 ... 19 27.9 0]\n",
      " [1.0 1.0 0.0 ... 18 33.77 1]\n",
      " [1.0 1.0 0.0 ... 28 33.0 3]\n",
      " ...\n",
      " [0.0 1.0 0.0 ... 18 36.85 0]\n",
      " [0.0 1.0 0.0 ... 21 25.8 0]\n",
      " [0.0 0.0 1.0 ... 61 29.07 0]]\n"
     ]
    }
   ],
   "source": [
    "#preparing our data for Backward Elimination now\n",
    "#removing one dummy variable and adding the constant column\n",
    "x_temp=x[ : ,1 : ]\n",
    "print(x_temp)"
   ]
  },
  {
   "cell_type": "code",
   "execution_count": 17,
   "metadata": {},
   "outputs": [
    {
     "name": "stdout",
     "output_type": "stream",
     "text": [
      "[[1.0 0.0 0.0 ... 19 27.9 0]\n",
      " [1.0 1.0 1.0 ... 18 33.77 1]\n",
      " [1.0 1.0 1.0 ... 28 33.0 3]\n",
      " ...\n",
      " [1.0 0.0 1.0 ... 18 36.85 0]\n",
      " [1.0 0.0 1.0 ... 21 25.8 0]\n",
      " [1.0 0.0 0.0 ... 61 29.07 0]]\n"
     ]
    }
   ],
   "source": [
    "#adding a constant column\n",
    "const = np.ones((1338,1))\n",
    "#np.append takes three values\n",
    "x_temp = np.append(arr = const, values = x_temp, axis=1)\n",
    "print(x_temp)"
   ]
  },
  {
   "cell_type": "code",
   "execution_count": 18,
   "metadata": {},
   "outputs": [],
   "source": [
    "x_opt = np.array(x_temp[ : , [0,1,2,3,4,5,6]], dtype=float)"
   ]
  },
  {
   "cell_type": "code",
   "execution_count": 19,
   "metadata": {},
   "outputs": [
    {
     "name": "stdout",
     "output_type": "stream",
     "text": [
      "                            OLS Regression Results                            \n",
      "==============================================================================\n",
      "Dep. Variable:                      y   R-squared:                       0.619\n",
      "Model:                            OLS   Adj. R-squared:                  0.618\n",
      "Method:                 Least Squares   F-statistic:                     361.2\n",
      "Date:                Sun, 18 Oct 2020   Prob (F-statistic):          4.58e-275\n",
      "Time:                        16:40:23   Log-Likelihood:                -13831.\n",
      "No. Observations:                1338   AIC:                         2.768e+04\n",
      "Df Residuals:                    1331   BIC:                         2.771e+04\n",
      "Df Model:                           6                                         \n",
      "Covariance Type:            nonrobust                                         \n",
      "==============================================================================\n",
      "                 coef    std err          t      P>|t|      [0.025      0.975]\n",
      "------------------------------------------------------------------------------\n",
      "const      -6.234e+16    3.1e+16     -2.010      0.045   -1.23e+17   -1.49e+15\n",
      "x1           -59.4879    410.650     -0.145      0.885    -865.080     746.104\n",
      "x2          6.234e+16    3.1e+16      2.010      0.045    1.49e+15    1.23e+17\n",
      "x3          6.234e+16    3.1e+16      2.010      0.045    1.49e+15    1.23e+17\n",
      "x4           346.8658    588.374      0.590      0.556    -807.376    1501.108\n",
      "x5            20.7483    587.840      0.035      0.972   -1132.445    1173.942\n",
      "x6           670.5278    572.781      1.171      0.242    -453.124    1794.180\n",
      "==============================================================================\n",
      "Omnibus:                      140.980   Durbin-Watson:                   2.020\n",
      "Prob(Omnibus):                  0.000   Jarque-Bera (JB):              218.255\n",
      "Skew:                           0.752   Prob(JB):                     4.04e-48\n",
      "Kurtosis:                       4.285   Cond. No.                     3.88e+14\n",
      "==============================================================================\n",
      "\n",
      "Notes:\n",
      "[1] Standard Errors assume that the covariance matrix of the errors is correctly specified.\n",
      "[2] The smallest eigenvalue is 1.94e-26. This might indicate that there are\n",
      "strong multicollinearity problems or that the design matrix is singular.\n"
     ]
    }
   ],
   "source": [
    "import statsmodels.api as sm\n",
    "stats = sm.OLS(endog = y, exog = x_opt).fit()\n",
    "print(stats.summary())"
   ]
  },
  {
   "cell_type": "code",
   "execution_count": 20,
   "metadata": {},
   "outputs": [
    {
     "name": "stdout",
     "output_type": "stream",
     "text": [
      "                            OLS Regression Results                            \n",
      "==============================================================================\n",
      "Dep. Variable:                      y   R-squared:                       0.619\n",
      "Model:                            OLS   Adj. R-squared:                  0.618\n",
      "Method:                 Least Squares   F-statistic:                     432.7\n",
      "Date:                Sun, 18 Oct 2020   Prob (F-statistic):          5.43e-276\n",
      "Time:                        16:40:23   Log-Likelihood:                -13832.\n",
      "No. Observations:                1338   AIC:                         2.768e+04\n",
      "Df Residuals:                    1332   BIC:                         2.771e+04\n",
      "Df Model:                           5                                         \n",
      "Covariance Type:            nonrobust                                         \n",
      "==============================================================================\n",
      "                 coef    std err          t      P>|t|      [0.025      0.975]\n",
      "------------------------------------------------------------------------------\n",
      "const       -5.58e+16   3.23e+16     -1.727      0.084   -1.19e+17    7.58e+15\n",
      "x1           -93.1461    410.931     -0.227      0.821    -899.289     712.996\n",
      "x2           5.58e+16   3.23e+16      1.727      0.084   -7.58e+15    1.19e+17\n",
      "x3           5.58e+16   3.23e+16      1.727      0.084   -7.58e+15    1.19e+17\n",
      "x4           344.6508    509.582      0.676      0.499    -655.021    1344.322\n",
      "x5           649.6214    491.802      1.321      0.187    -315.169    1614.412\n",
      "==============================================================================\n",
      "Omnibus:                      130.332   Durbin-Watson:                   2.015\n",
      "Prob(Omnibus):                  0.000   Jarque-Bera (JB):              203.809\n",
      "Skew:                           0.702   Prob(JB):                     5.54e-45\n",
      "Kurtosis:                       4.298   Cond. No.                     3.99e+14\n",
      "==============================================================================\n",
      "\n",
      "Notes:\n",
      "[1] Standard Errors assume that the covariance matrix of the errors is correctly specified.\n",
      "[2] The smallest eigenvalue is 1.79e-26. This might indicate that there are\n",
      "strong multicollinearity problems or that the design matrix is singular.\n"
     ]
    }
   ],
   "source": [
    "x_opt = np.array(x_temp[ : , [0,1,2,3,4,6]], dtype=float)  #removing column with index number 5\n",
    "stats = sm.OLS(endog = y, exog=x_opt).fit()\n",
    "print(stats.summary())"
   ]
  },
  {
   "cell_type": "code",
   "execution_count": 21,
   "metadata": {},
   "outputs": [
    {
     "name": "stdout",
     "output_type": "stream",
     "text": [
      "                            OLS Regression Results                            \n",
      "==============================================================================\n",
      "Dep. Variable:                      y   R-squared:                       0.620\n",
      "Model:                            OLS   Adj. R-squared:                  0.619\n",
      "Method:                 Least Squares   F-statistic:                     543.9\n",
      "Date:                Sun, 18 Oct 2020   Prob (F-statistic):          3.09e-278\n",
      "Time:                        16:40:24   Log-Likelihood:                -13830.\n",
      "No. Observations:                1338   AIC:                         2.767e+04\n",
      "Df Residuals:                    1333   BIC:                         2.770e+04\n",
      "Df Model:                           4                                         \n",
      "Covariance Type:            nonrobust                                         \n",
      "==============================================================================\n",
      "                 coef    std err          t      P>|t|      [0.025      0.975]\n",
      "------------------------------------------------------------------------------\n",
      "const      -2.593e+16    2.6e+16     -0.996      0.319    -7.7e+16    2.51e+16\n",
      "x1          2.593e+16    2.6e+16      0.996      0.319   -2.51e+16     7.7e+16\n",
      "x2          2.593e+16    2.6e+16      0.996      0.319   -2.51e+16     7.7e+16\n",
      "x3           346.6061    508.692      0.681      0.496    -651.318    1344.531\n",
      "x4           639.9609    491.512      1.302      0.193    -324.261    1604.183\n",
      "==============================================================================\n",
      "Omnibus:                      125.856   Durbin-Watson:                   2.021\n",
      "Prob(Omnibus):                  0.000   Jarque-Bera (JB):              198.231\n",
      "Skew:                           0.680   Prob(JB):                     9.01e-44\n",
      "Kurtosis:                       4.306   Cond. No.                     3.00e+14\n",
      "==============================================================================\n",
      "\n",
      "Notes:\n",
      "[1] Standard Errors assume that the covariance matrix of the errors is correctly specified.\n",
      "[2] The smallest eigenvalue is 2.75e-26. This might indicate that there are\n",
      "strong multicollinearity problems or that the design matrix is singular.\n"
     ]
    }
   ],
   "source": [
    "x_opt = np.array(x_temp[ : , [0,2,3,4,6]], dtype=float)  #removing column with index number 1\n",
    "stats = sm.OLS(endog = y, exog=x_opt).fit()\n",
    "print(stats.summary())"
   ]
  },
  {
   "cell_type": "code",
   "execution_count": 22,
   "metadata": {},
   "outputs": [
    {
     "name": "stdout",
     "output_type": "stream",
     "text": [
      "                            OLS Regression Results                            \n",
      "==============================================================================\n",
      "Dep. Variable:                      y   R-squared:                       0.620\n",
      "Model:                            OLS   Adj. R-squared:                  0.619\n",
      "Method:                 Least Squares   F-statistic:                     726.5\n",
      "Date:                Sun, 18 Oct 2020   Prob (F-statistic):          6.94e-280\n",
      "Time:                        16:40:24   Log-Likelihood:                -13830.\n",
      "No. Observations:                1338   AIC:                         2.767e+04\n",
      "Df Residuals:                    1334   BIC:                         2.769e+04\n",
      "Df Model:                           3                                         \n",
      "Covariance Type:            nonrobust                                         \n",
      "==============================================================================\n",
      "                 coef    std err          t      P>|t|      [0.025      0.975]\n",
      "------------------------------------------------------------------------------\n",
      "const       3.174e+04    509.588     62.288      0.000    3.07e+04    3.27e+04\n",
      "x1         -2.356e+04    507.486    -46.434      0.000   -2.46e+04   -2.26e+04\n",
      "x2           356.5796    508.243      0.702      0.483    -640.463    1353.623\n",
      "x3           667.3880    490.402      1.361      0.174    -294.656    1629.431\n",
      "==============================================================================\n",
      "Omnibus:                      135.127   Durbin-Watson:                   2.022\n",
      "Prob(Omnibus):                  0.000   Jarque-Bera (JB):              210.315\n",
      "Skew:                           0.725   Prob(JB):                     2.14e-46\n",
      "Kurtosis:                       4.293   Cond. No.                         4.85\n",
      "==============================================================================\n",
      "\n",
      "Notes:\n",
      "[1] Standard Errors assume that the covariance matrix of the errors is correctly specified.\n"
     ]
    }
   ],
   "source": [
    "x_opt = np.array(x_temp[ : , [0,2,4,6]], dtype=float)   #removing column with index number 3\n",
    "stats = sm.OLS(endog = y, exog=x_opt).fit()\n",
    "print(stats.summary())"
   ]
  },
  {
   "cell_type": "code",
   "execution_count": 23,
   "metadata": {},
   "outputs": [
    {
     "name": "stdout",
     "output_type": "stream",
     "text": [
      "                            OLS Regression Results                            \n",
      "==============================================================================\n",
      "Dep. Variable:                      y   R-squared:                       0.007\n",
      "Model:                            OLS   Adj. R-squared:                  0.005\n",
      "Method:                 Least Squares   F-statistic:                     4.455\n",
      "Date:                Sun, 18 Oct 2020   Prob (F-statistic):             0.0118\n",
      "Time:                        16:40:24   Log-Likelihood:                -14473.\n",
      "No. Observations:                1338   AIC:                         2.895e+04\n",
      "Df Residuals:                    1335   BIC:                         2.897e+04\n",
      "Df Model:                           2                                         \n",
      "Covariance Type:            nonrobust                                         \n",
      "==============================================================================\n",
      "                 coef    std err          t      P>|t|      [0.025      0.975]\n",
      "------------------------------------------------------------------------------\n",
      "const       1.238e+04    473.771     26.136      0.000    1.15e+04    1.33e+04\n",
      "x1          1024.1281    821.439      1.247      0.213    -587.324    2635.580\n",
      "x2          2353.1551    790.746      2.976      0.003     801.916    3904.394\n",
      "==============================================================================\n",
      "Omnibus:                      327.330   Durbin-Watson:                   2.001\n",
      "Prob(Omnibus):                  0.000   Jarque-Bera (JB):              623.070\n",
      "Skew:                           1.484   Prob(JB):                    5.04e-136\n",
      "Kurtosis:                       4.540   Cond. No.                         3.25\n",
      "==============================================================================\n",
      "\n",
      "Notes:\n",
      "[1] Standard Errors assume that the covariance matrix of the errors is correctly specified.\n"
     ]
    }
   ],
   "source": [
    "x_opt = np.array(x_temp[ : , [0,4,6]], dtype=float)   #removing column with index number 2\n",
    "stats = sm.OLS(endog = y, exog=x_opt).fit()\n",
    "print(stats.summary())"
   ]
  },
  {
   "cell_type": "code",
   "execution_count": 24,
   "metadata": {},
   "outputs": [
    {
     "name": "stdout",
     "output_type": "stream",
     "text": [
      "                            OLS Regression Results                            \n",
      "==============================================================================\n",
      "Dep. Variable:                      y   R-squared:                       0.005\n",
      "Model:                            OLS   Adj. R-squared:                  0.005\n",
      "Method:                 Least Squares   F-statistic:                     7.353\n",
      "Date:                Sun, 18 Oct 2020   Prob (F-statistic):            0.00678\n",
      "Time:                        16:40:24   Log-Likelihood:                -14474.\n",
      "No. Observations:                1338   AIC:                         2.895e+04\n",
      "Df Residuals:                    1336   BIC:                         2.896e+04\n",
      "Df Model:                           1                                         \n",
      "Covariance Type:            nonrobust                                         \n",
      "==============================================================================\n",
      "                 coef    std err          t      P>|t|      [0.025      0.975]\n",
      "------------------------------------------------------------------------------\n",
      "const       1.272e+04    387.111     32.866      0.000     1.2e+04    1.35e+04\n",
      "x1          2012.4800    742.187      2.712      0.007     556.502    3468.458\n",
      "==============================================================================\n",
      "Omnibus:                      326.079   Durbin-Watson:                   2.000\n",
      "Prob(Omnibus):                  0.000   Jarque-Bera (JB):              618.721\n",
      "Skew:                           1.481   Prob(JB):                    4.43e-135\n",
      "Kurtosis:                       4.526   Cond. No.                         2.45\n",
      "==============================================================================\n",
      "\n",
      "Notes:\n",
      "[1] Standard Errors assume that the covariance matrix of the errors is correctly specified.\n"
     ]
    }
   ],
   "source": [
    "x_opt = np.array(x_temp[ : , [0,6]], dtype=float)   #removing column with index number 4\n",
    "stats = sm.OLS(endog = y, exog=x_opt).fit()\n",
    "print(stats.summary())"
   ]
  },
  {
   "cell_type": "code",
   "execution_count": 25,
   "metadata": {},
   "outputs": [
    {
     "data": {
      "text/plain": [
       "LinearRegression()"
      ]
     },
     "execution_count": 25,
     "metadata": {},
     "output_type": "execute_result"
    }
   ],
   "source": [
    "# Now again splitting and training the model after performing backward elimination\n",
    "x_train,x_test,y_train,y_test = train_test_split(x_opt,y,test_size = 0.2,random_state=0)\n",
    "reg = LinearRegression()\n",
    "reg.fit(x_train,y_train)"
   ]
  },
  {
   "cell_type": "code",
   "execution_count": 26,
   "metadata": {},
   "outputs": [
    {
     "name": "stdout",
     "output_type": "stream",
     "text": [
      "9362.547296936635\n",
      "159258942.36755106\n"
     ]
    }
   ],
   "source": [
    "# predicting the output and printing the errors\n",
    "y_pr = reg.predict(x_test)\n",
    "print(mean_absolute_error(y_test,y_pr))\n",
    "print(mean_squared_error(y_test,y_pr))"
   ]
  },
  {
   "cell_type": "code",
   "execution_count": null,
   "metadata": {},
   "outputs": [],
   "source": []
  }
 ],
 "metadata": {
  "kernelspec": {
   "display_name": "Python 3",
   "language": "python",
   "name": "python3"
  },
  "language_info": {
   "codemirror_mode": {
    "name": "ipython",
    "version": 3
   },
   "file_extension": ".py",
   "mimetype": "text/x-python",
   "name": "python",
   "nbconvert_exporter": "python",
   "pygments_lexer": "ipython3",
   "version": "3.8.1"
  }
 },
 "nbformat": 4,
 "nbformat_minor": 4
}
